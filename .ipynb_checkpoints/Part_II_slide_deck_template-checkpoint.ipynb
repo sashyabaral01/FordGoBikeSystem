{
 "cells": [
  {
   "cell_type": "markdown",
   "metadata": {
    "slideshow": {
     "slide_type": "slide"
    }
   },
   "source": [
    "# Part II - Ford-GoBike-System-Data\n",
    "## by Sashya Baral"
   ]
  },
  {
   "cell_type": "markdown",
   "metadata": {
    "slideshow": {
     "slide_type": "slide"
    }
   },
   "source": [
    "## Investigation Overview\n",
    "> In this presentation, I am analyzing the gender data of the bike users in depth. I am analyzing the relationship between gender and other corresponding variables such as average duration time, birth year, start day of biking, and time of day gone biking. \n",
    "\n",
    "## Dataset Overview\n",
    "> The dataset is from the Ford GoBike System Data from the city of San Fransico. It contains 172535 entries. I have used a CSV from Part I that was cleaned."
   ]
  },
  {
   "cell_type": "code",
   "execution_count": 1,
   "metadata": {
    "slideshow": {
     "slide_type": "skip"
    }
   },
   "outputs": [],
   "source": [
    "# import all packages and set plots to be embedded inline\n",
    "import numpy as np\n",
    "import pandas as pd\n",
    "import matplotlib.pyplot as plt\n",
    "import seaborn as sb\n",
    "\n",
    "%matplotlib inline\n",
    "\n",
    "# suppress warnings from final output\n",
    "import warnings\n",
    "warnings.simplefilter(\"ignore\")"
   ]
  },
  {
   "cell_type": "code",
   "execution_count": 2,
   "metadata": {
    "slideshow": {
     "slide_type": "skip"
    }
   },
   "outputs": [
    {
     "data": {
      "text/html": [
       "<div>\n",
       "<style scoped>\n",
       "    .dataframe tbody tr th:only-of-type {\n",
       "        vertical-align: middle;\n",
       "    }\n",
       "\n",
       "    .dataframe tbody tr th {\n",
       "        vertical-align: top;\n",
       "    }\n",
       "\n",
       "    .dataframe thead th {\n",
       "        text-align: right;\n",
       "    }\n",
       "</style>\n",
       "<table border=\"1\" class=\"dataframe\">\n",
       "  <thead>\n",
       "    <tr style=\"text-align: right;\">\n",
       "      <th></th>\n",
       "      <th>duration_min</th>\n",
       "      <th>start_time</th>\n",
       "      <th>end_time</th>\n",
       "      <th>user_type</th>\n",
       "      <th>member_birth_year</th>\n",
       "      <th>member_gender</th>\n",
       "      <th>start_day</th>\n",
       "      <th>start_hour</th>\n",
       "      <th>TimeOfDay_start</th>\n",
       "    </tr>\n",
       "  </thead>\n",
       "  <tbody>\n",
       "    <tr>\n",
       "      <th>0</th>\n",
       "      <td>26.42</td>\n",
       "      <td>2019-02-28 23:54:18.549</td>\n",
       "      <td>2019-03-01 00:20:44.0740</td>\n",
       "      <td>Subscriber</td>\n",
       "      <td>1974</td>\n",
       "      <td>Male</td>\n",
       "      <td>Thursday</td>\n",
       "      <td>23</td>\n",
       "      <td>Night</td>\n",
       "    </tr>\n",
       "    <tr>\n",
       "      <th>1</th>\n",
       "      <td>29.88</td>\n",
       "      <td>2019-02-28 23:49:58.632</td>\n",
       "      <td>2019-03-01 00:19:51.7600</td>\n",
       "      <td>Subscriber</td>\n",
       "      <td>1959</td>\n",
       "      <td>Male</td>\n",
       "      <td>Thursday</td>\n",
       "      <td>23</td>\n",
       "      <td>Night</td>\n",
       "    </tr>\n",
       "    <tr>\n",
       "      <th>2</th>\n",
       "      <td>19.12</td>\n",
       "      <td>2019-02-28 23:55:35.104</td>\n",
       "      <td>2019-03-01 00:14:42.5880</td>\n",
       "      <td>Subscriber</td>\n",
       "      <td>1983</td>\n",
       "      <td>Female</td>\n",
       "      <td>Thursday</td>\n",
       "      <td>23</td>\n",
       "      <td>Night</td>\n",
       "    </tr>\n",
       "    <tr>\n",
       "      <th>3</th>\n",
       "      <td>26.92</td>\n",
       "      <td>2019-02-28 23:41:06.766</td>\n",
       "      <td>2019-03-01 00:08:02.7560</td>\n",
       "      <td>Subscriber</td>\n",
       "      <td>1989</td>\n",
       "      <td>Male</td>\n",
       "      <td>Thursday</td>\n",
       "      <td>23</td>\n",
       "      <td>Night</td>\n",
       "    </tr>\n",
       "    <tr>\n",
       "      <th>4</th>\n",
       "      <td>26.17</td>\n",
       "      <td>2019-02-28 23:41:48.790</td>\n",
       "      <td>2019-03-01 00:07:59.7150</td>\n",
       "      <td>Subscriber</td>\n",
       "      <td>1988</td>\n",
       "      <td>Other</td>\n",
       "      <td>Thursday</td>\n",
       "      <td>23</td>\n",
       "      <td>Night</td>\n",
       "    </tr>\n",
       "    <tr>\n",
       "      <th>...</th>\n",
       "      <td>...</td>\n",
       "      <td>...</td>\n",
       "      <td>...</td>\n",
       "      <td>...</td>\n",
       "      <td>...</td>\n",
       "      <td>...</td>\n",
       "      <td>...</td>\n",
       "      <td>...</td>\n",
       "      <td>...</td>\n",
       "    </tr>\n",
       "    <tr>\n",
       "      <th>172530</th>\n",
       "      <td>8.00</td>\n",
       "      <td>2019-02-01 00:04:49.724</td>\n",
       "      <td>2019-02-01 00:12:50.0340</td>\n",
       "      <td>Subscriber</td>\n",
       "      <td>1996</td>\n",
       "      <td>Male</td>\n",
       "      <td>Friday</td>\n",
       "      <td>0</td>\n",
       "      <td>Night</td>\n",
       "    </tr>\n",
       "    <tr>\n",
       "      <th>172531</th>\n",
       "      <td>5.22</td>\n",
       "      <td>2019-02-01 00:05:34.744</td>\n",
       "      <td>2019-02-01 00:10:48.5020</td>\n",
       "      <td>Subscriber</td>\n",
       "      <td>1984</td>\n",
       "      <td>Male</td>\n",
       "      <td>Friday</td>\n",
       "      <td>0</td>\n",
       "      <td>Night</td>\n",
       "    </tr>\n",
       "    <tr>\n",
       "      <th>172532</th>\n",
       "      <td>2.35</td>\n",
       "      <td>2019-02-01 00:06:05.549</td>\n",
       "      <td>2019-02-01 00:08:27.2200</td>\n",
       "      <td>Subscriber</td>\n",
       "      <td>1990</td>\n",
       "      <td>Male</td>\n",
       "      <td>Friday</td>\n",
       "      <td>0</td>\n",
       "      <td>Night</td>\n",
       "    </tr>\n",
       "    <tr>\n",
       "      <th>172533</th>\n",
       "      <td>2.32</td>\n",
       "      <td>2019-02-01 00:05:34.360</td>\n",
       "      <td>2019-02-01 00:07:54.2870</td>\n",
       "      <td>Subscriber</td>\n",
       "      <td>1988</td>\n",
       "      <td>Male</td>\n",
       "      <td>Friday</td>\n",
       "      <td>0</td>\n",
       "      <td>Night</td>\n",
       "    </tr>\n",
       "    <tr>\n",
       "      <th>172534</th>\n",
       "      <td>4.52</td>\n",
       "      <td>2019-02-01 00:00:20.636</td>\n",
       "      <td>2019-02-01 00:04:52.0580</td>\n",
       "      <td>Subscriber</td>\n",
       "      <td>1989</td>\n",
       "      <td>Male</td>\n",
       "      <td>Friday</td>\n",
       "      <td>0</td>\n",
       "      <td>Night</td>\n",
       "    </tr>\n",
       "  </tbody>\n",
       "</table>\n",
       "<p>172535 rows × 9 columns</p>\n",
       "</div>"
      ],
      "text/plain": [
       "        duration_min               start_time                  end_time  \\\n",
       "0              26.42  2019-02-28 23:54:18.549  2019-03-01 00:20:44.0740   \n",
       "1              29.88  2019-02-28 23:49:58.632  2019-03-01 00:19:51.7600   \n",
       "2              19.12  2019-02-28 23:55:35.104  2019-03-01 00:14:42.5880   \n",
       "3              26.92  2019-02-28 23:41:06.766  2019-03-01 00:08:02.7560   \n",
       "4              26.17  2019-02-28 23:41:48.790  2019-03-01 00:07:59.7150   \n",
       "...              ...                      ...                       ...   \n",
       "172530          8.00  2019-02-01 00:04:49.724  2019-02-01 00:12:50.0340   \n",
       "172531          5.22  2019-02-01 00:05:34.744  2019-02-01 00:10:48.5020   \n",
       "172532          2.35  2019-02-01 00:06:05.549  2019-02-01 00:08:27.2200   \n",
       "172533          2.32  2019-02-01 00:05:34.360  2019-02-01 00:07:54.2870   \n",
       "172534          4.52  2019-02-01 00:00:20.636  2019-02-01 00:04:52.0580   \n",
       "\n",
       "         user_type  member_birth_year member_gender start_day  start_hour  \\\n",
       "0       Subscriber               1974          Male  Thursday          23   \n",
       "1       Subscriber               1959          Male  Thursday          23   \n",
       "2       Subscriber               1983        Female  Thursday          23   \n",
       "3       Subscriber               1989          Male  Thursday          23   \n",
       "4       Subscriber               1988         Other  Thursday          23   \n",
       "...            ...                ...           ...       ...         ...   \n",
       "172530  Subscriber               1996          Male    Friday           0   \n",
       "172531  Subscriber               1984          Male    Friday           0   \n",
       "172532  Subscriber               1990          Male    Friday           0   \n",
       "172533  Subscriber               1988          Male    Friday           0   \n",
       "172534  Subscriber               1989          Male    Friday           0   \n",
       "\n",
       "       TimeOfDay_start  \n",
       "0                Night  \n",
       "1                Night  \n",
       "2                Night  \n",
       "3                Night  \n",
       "4                Night  \n",
       "...                ...  \n",
       "172530           Night  \n",
       "172531           Night  \n",
       "172532           Night  \n",
       "172533           Night  \n",
       "172534           Night  \n",
       "\n",
       "[172535 rows x 9 columns]"
      ]
     },
     "execution_count": 2,
     "metadata": {},
     "output_type": "execute_result"
    }
   ],
   "source": [
    "df = pd.read_csv('clean_bike_copy')\n",
    "df"
   ]
  },
  {
   "cell_type": "markdown",
   "metadata": {
    "slideshow": {
     "slide_type": "notes"
    }
   },
   "source": [
    "> Note that the above cells have been set as \"Skip\"-type slides. That means\n",
    "that when the notebook is rendered as http slides, those cells won't show up."
   ]
  },
  {
   "cell_type": "markdown",
   "metadata": {
    "slideshow": {
     "slide_type": "slide"
    }
   },
   "source": [
    "## Proportion of the Genders in the Ford-GoBike-System-Data\n",
    "\n",
    "> I am analyzing the gender proportion of the Bike riders in the Ford-GoBike-System-Data. I am interested in seeing the percentage of all the genders.  \n",
    "\n",
    "> From this data, we can see that the majority of Bikers in the the  Ford-GoBike-System-Data are males. They make up about 75% of the bike riders. Females make up around 23.4% of bike riders, and the rest are the other gender at 2.1%. "
   ]
  },
  {
   "cell_type": "code",
   "execution_count": 3,
   "metadata": {
    "slideshow": {
     "slide_type": "subslide"
    }
   },
   "outputs": [
    {
     "data": {
      "text/plain": [
       "Text(0.5, 1.0, 'Bike User Gender')"
      ]
     },
     "execution_count": 3,
     "metadata": {},
     "output_type": "execute_result"
    },
    {
     "data": {
      "image/png": "[encoded data removed]",
      "text/plain": [
       "<Figure size 432x288 with 1 Axes>"
      ]
     },
     "metadata": {},
     "output_type": "display_data"
    }
   ],
   "source": [
    "sorted_counts = df['member_gender'].value_counts()\n",
    "\n",
    "plt.pie(sorted_counts, labels = sorted_counts.index,autopct='%1.1f%%', startangle = 90, counterclock = False);\n",
    "\n",
    "plt.axis('square')\n",
    "\n",
    "plt.title(\"Bike User Gender\")"
   ]
  },
  {
   "cell_type": "markdown",
   "metadata": {
    "collapsed": true,
    "slideshow": {
     "slide_type": "slide"
    }
   },
   "source": [
    "## Average Biking Duration Based on Gender\n",
    "\n",
    "> I want to find the average biking duration (in minutes) based on the user's genders.\n",
    "\n",
    "> From this data, we can see that the other gender bike users had the highest average of around 11.89 minutes, females came in second with an average of around 11.5 minutes, and males came in last with an average of around 10.19 minutes"
   ]
  },
  {
   "cell_type": "code",
   "execution_count": 4,
   "metadata": {
    "slideshow": {
     "slide_type": "subslide"
    }
   },
   "outputs": [
    {
     "data": {
      "image/png": "[encoded data removed]",
      "text/plain": [
       "<Figure size 720x432 with 1 Axes>"
      ]
     },
     "metadata": {
      "needs_background": "light"
     },
     "output_type": "display_data"
    }
   ],
   "source": [
    "df_bike_copy_member = df[['member_gender', 'duration_min']].groupby('member_gender').mean()\n",
    "\n",
    "ax = df_bike_copy_member.plot(title='Average Biking Duration Time of the Bike User Genders', kind='bar', figsize=(10,6), color='blue', fontsize=12);\n",
    "\n",
    "\n",
    "ax.bar_label(ax.containers[0], label_type='edge')\n",
    "\n",
    "\n",
    "plt.xlabel('Member Gender')\n",
    "plt.ylabel('Average Biking Duration in Minutes')\n",
    "\n",
    "\n",
    "ax.get_legend().remove()\n"
   ]
  },
  {
   "cell_type": "markdown",
   "metadata": {
    "slideshow": {
     "slide_type": "slide"
    }
   },
   "source": [
    "##  Average biking trip duration for the different genders during the days of the week\n",
    "\n",
    "> I want to find the average biking trip duration for all the genders for the days of the week.\n",
    "\n",
    "> On all days of the week except for Monday, the average trip duration was the highest for the other gender, then the average duration was second highest for females, and men came in last. On Monday, females had the highest average duration time, then the other gender, and males were last in average duration time for biking. For all days of the week, the other gender had the highest standard deviations, then females had the second highest standard deviation, and men had the least standard deviation.   \n",
    "\n"
   ]
  },
  {
   "cell_type": "code",
   "execution_count": 5,
   "metadata": {
    "slideshow": {
     "slide_type": "subslide"
    }
   },
   "outputs": [
    {
     "data": {
      "image/png": "[encoded data removed]",
      "text/plain": [
       "<Figure size 576x432 with 1 Axes>"
      ]
     },
     "metadata": {
      "needs_background": "light"
     },
     "output_type": "display_data"
    }
   ],
   "source": [
    "fig = plt.figure(figsize = [8,6])\n",
    "ax = sb.pointplot(data = df, x ='start_day', y = 'duration_min', hue = 'member_gender',\n",
    "           palette = 'Blues', linestyles = '', dodge = 0.4)\n",
    "plt.title('Trip Duration Time across Day of the Week and Gender')\n",
    "plt.yticks([0,2, 4, 6,8,10,12,14,16,18,20], ['0','2', '4', '6','8','10','12','14','16','18','20'])\n",
    "ax.set_yticklabels([],minor = True)\n",
    "plt.show();"
   ]
  },
  {
   "cell_type": "markdown",
   "metadata": {
    "slideshow": {
     "slide_type": "skip"
    }
   },
   "source": [
    "### Generate Slideshow\n",
    "Once you're ready to generate your slideshow, use the `jupyter nbconvert` command to generate the HTML slide show.  "
   ]
  },
  {
   "cell_type": "code",
   "execution_count": null,
   "metadata": {
    "slideshow": {
     "slide_type": "skip"
    }
   },
   "outputs": [
    {
     "name": "stdout",
     "output_type": "stream",
     "text": [
      "[NbConvertApp] Converting notebook Part_II_slide_deck_template.ipynb to slides\n",
      "[NbConvertApp] Writing 620445 bytes to Part_II_slide_deck_template.slides.html\n",
      "[NbConvertApp] Redirecting reveal.js requests to https://cdnjs.cloudflare.com/ajax/libs/reveal.js/3.5.0\n",
      "Serving your slides at http://127.0.0.1:8000/Part_II_slide_deck_template.slides.html\n",
      "Use Control-C to stop this server\n"
     ]
    }
   ],
   "source": [
    "# Use this command if you are running this file in local\n",
    "!jupyter nbconvert Part_II_slide_deck_template.ipynb --to slides --post serve --no-input --no-prompt"
   ]
  },
  {
   "cell_type": "code",
   "execution_count": null,
   "metadata": {},
   "outputs": [],
   "source": []
  }
 ],
 "metadata": {
  "celltoolbar": "Slideshow",
  "kernelspec": {
   "display_name": "Python 3 (ipykernel)",
   "language": "python",
   "name": "python3"
  },
  "language_info": {
   "codemirror_mode": {
    "name": "ipython",
    "version": 3
   },
   "file_extension": ".py",
   "mimetype": "text/x-python",
   "name": "python",
   "nbconvert_exporter": "python",
   "pygments_lexer": "ipython3",
   "version": "3.9.7"
  }
 },
 "nbformat": 4,
 "nbformat_minor": 2
}
